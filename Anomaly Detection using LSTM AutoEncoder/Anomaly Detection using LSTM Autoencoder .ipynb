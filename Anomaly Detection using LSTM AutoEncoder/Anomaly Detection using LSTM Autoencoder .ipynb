{
 "cells": [
  {
   "cell_type": "code",
   "execution_count": 1,
   "metadata": {},
   "outputs": [],
   "source": [
    "%matplotlib inline\n",
    "import numpy as np\n",
    "import pandas as pd\n",
    "from sklearn.preprocessing import StandardScaler,MinMaxScaler\n",
    "\n",
    "import matplotlib.pyplot as plt\n",
    "import seaborn as sns\n",
    "sns.set()"
   ]
  },
  {
   "cell_type": "code",
   "execution_count": 2,
   "metadata": {},
   "outputs": [
    {
     "name": "stderr",
     "output_type": "stream",
     "text": [
      "Using TensorFlow backend.\n"
     ]
    }
   ],
   "source": [
    "from keras.models import Sequential,Model\n",
    "from keras.layers import LSTM,Input,Dropout,Dense\n",
    "from keras.layers import TimeDistributed,RepeatVector"
   ]
  },
  {
   "cell_type": "markdown",
   "metadata": {},
   "source": [
    "Using 60 years daily historical data from general electric, taken from yahoo finance."
   ]
  },
  {
   "cell_type": "markdown",
   "metadata": {},
   "source": [
    "https://finance.yahoo.com/quote/GE/history?p=GE"
   ]
  },
  {
   "cell_type": "code",
   "execution_count": 3,
   "metadata": {},
   "outputs": [],
   "source": [
    "data=pd.read_csv('GE_60.csv')"
   ]
  },
  {
   "cell_type": "code",
   "execution_count": 4,
   "metadata": {},
   "outputs": [
    {
     "data": {
      "text/html": [
       "<div>\n",
       "<style scoped>\n",
       "    .dataframe tbody tr th:only-of-type {\n",
       "        vertical-align: middle;\n",
       "    }\n",
       "\n",
       "    .dataframe tbody tr th {\n",
       "        vertical-align: top;\n",
       "    }\n",
       "\n",
       "    .dataframe thead th {\n",
       "        text-align: right;\n",
       "    }\n",
       "</style>\n",
       "<table border=\"1\" class=\"dataframe\">\n",
       "  <thead>\n",
       "    <tr style=\"text-align: right;\">\n",
       "      <th></th>\n",
       "      <th>Date</th>\n",
       "      <th>Open</th>\n",
       "      <th>High</th>\n",
       "      <th>Low</th>\n",
       "      <th>Close</th>\n",
       "      <th>Adj Close</th>\n",
       "      <th>Volume</th>\n",
       "    </tr>\n",
       "  </thead>\n",
       "  <tbody>\n",
       "    <tr>\n",
       "      <th>0</th>\n",
       "      <td>1962-01-02</td>\n",
       "      <td>0.751202</td>\n",
       "      <td>0.763722</td>\n",
       "      <td>0.743690</td>\n",
       "      <td>0.748698</td>\n",
       "      <td>0.124899</td>\n",
       "      <td>2156500</td>\n",
       "    </tr>\n",
       "    <tr>\n",
       "      <th>1</th>\n",
       "      <td>1962-01-03</td>\n",
       "      <td>0.744942</td>\n",
       "      <td>0.744942</td>\n",
       "      <td>0.738682</td>\n",
       "      <td>0.741186</td>\n",
       "      <td>0.123646</td>\n",
       "      <td>1477600</td>\n",
       "    </tr>\n",
       "    <tr>\n",
       "      <th>2</th>\n",
       "      <td>1962-01-04</td>\n",
       "      <td>0.741186</td>\n",
       "      <td>0.747446</td>\n",
       "      <td>0.726162</td>\n",
       "      <td>0.732422</td>\n",
       "      <td>0.122184</td>\n",
       "      <td>1837000</td>\n",
       "    </tr>\n",
       "    <tr>\n",
       "      <th>3</th>\n",
       "      <td>1962-01-05</td>\n",
       "      <td>0.732422</td>\n",
       "      <td>0.733674</td>\n",
       "      <td>0.701122</td>\n",
       "      <td>0.713642</td>\n",
       "      <td>0.119051</td>\n",
       "      <td>2725600</td>\n",
       "    </tr>\n",
       "    <tr>\n",
       "      <th>4</th>\n",
       "      <td>1962-01-08</td>\n",
       "      <td>0.713642</td>\n",
       "      <td>0.713642</td>\n",
       "      <td>0.691106</td>\n",
       "      <td>0.712390</td>\n",
       "      <td>0.118842</td>\n",
       "      <td>3095000</td>\n",
       "    </tr>\n",
       "    <tr>\n",
       "      <th>...</th>\n",
       "      <td>...</td>\n",
       "      <td>...</td>\n",
       "      <td>...</td>\n",
       "      <td>...</td>\n",
       "      <td>...</td>\n",
       "      <td>...</td>\n",
       "      <td>...</td>\n",
       "    </tr>\n",
       "    <tr>\n",
       "      <th>14848</th>\n",
       "      <td>2020-12-24</td>\n",
       "      <td>10.850000</td>\n",
       "      <td>10.850000</td>\n",
       "      <td>10.620000</td>\n",
       "      <td>10.650000</td>\n",
       "      <td>10.650000</td>\n",
       "      <td>30049700</td>\n",
       "    </tr>\n",
       "    <tr>\n",
       "      <th>14849</th>\n",
       "      <td>2020-12-28</td>\n",
       "      <td>10.700000</td>\n",
       "      <td>10.780000</td>\n",
       "      <td>10.580000</td>\n",
       "      <td>10.640000</td>\n",
       "      <td>10.640000</td>\n",
       "      <td>53796700</td>\n",
       "    </tr>\n",
       "    <tr>\n",
       "      <th>14850</th>\n",
       "      <td>2020-12-29</td>\n",
       "      <td>10.660000</td>\n",
       "      <td>10.770000</td>\n",
       "      <td>10.540000</td>\n",
       "      <td>10.560000</td>\n",
       "      <td>10.560000</td>\n",
       "      <td>53035900</td>\n",
       "    </tr>\n",
       "    <tr>\n",
       "      <th>14851</th>\n",
       "      <td>2020-12-30</td>\n",
       "      <td>10.580000</td>\n",
       "      <td>10.850000</td>\n",
       "      <td>10.550000</td>\n",
       "      <td>10.710000</td>\n",
       "      <td>10.710000</td>\n",
       "      <td>50621000</td>\n",
       "    </tr>\n",
       "    <tr>\n",
       "      <th>14852</th>\n",
       "      <td>2020-12-31</td>\n",
       "      <td>10.650000</td>\n",
       "      <td>10.830000</td>\n",
       "      <td>10.580000</td>\n",
       "      <td>10.800000</td>\n",
       "      <td>10.800000</td>\n",
       "      <td>47613400</td>\n",
       "    </tr>\n",
       "  </tbody>\n",
       "</table>\n",
       "<p>14853 rows × 7 columns</p>\n",
       "</div>"
      ],
      "text/plain": [
       "             Date       Open       High        Low      Close  Adj Close  \\\n",
       "0      1962-01-02   0.751202   0.763722   0.743690   0.748698   0.124899   \n",
       "1      1962-01-03   0.744942   0.744942   0.738682   0.741186   0.123646   \n",
       "2      1962-01-04   0.741186   0.747446   0.726162   0.732422   0.122184   \n",
       "3      1962-01-05   0.732422   0.733674   0.701122   0.713642   0.119051   \n",
       "4      1962-01-08   0.713642   0.713642   0.691106   0.712390   0.118842   \n",
       "...           ...        ...        ...        ...        ...        ...   \n",
       "14848  2020-12-24  10.850000  10.850000  10.620000  10.650000  10.650000   \n",
       "14849  2020-12-28  10.700000  10.780000  10.580000  10.640000  10.640000   \n",
       "14850  2020-12-29  10.660000  10.770000  10.540000  10.560000  10.560000   \n",
       "14851  2020-12-30  10.580000  10.850000  10.550000  10.710000  10.710000   \n",
       "14852  2020-12-31  10.650000  10.830000  10.580000  10.800000  10.800000   \n",
       "\n",
       "         Volume  \n",
       "0       2156500  \n",
       "1       1477600  \n",
       "2       1837000  \n",
       "3       2725600  \n",
       "4       3095000  \n",
       "...         ...  \n",
       "14848  30049700  \n",
       "14849  53796700  \n",
       "14850  53035900  \n",
       "14851  50621000  \n",
       "14852  47613400  \n",
       "\n",
       "[14853 rows x 7 columns]"
      ]
     },
     "execution_count": 4,
     "metadata": {},
     "output_type": "execute_result"
    }
   ],
   "source": [
    "data"
   ]
  },
  {
   "cell_type": "code",
   "execution_count": 5,
   "metadata": {},
   "outputs": [
    {
     "name": "stdout",
     "output_type": "stream",
     "text": [
      "<class 'pandas.core.frame.DataFrame'>\n",
      "RangeIndex: 14853 entries, 0 to 14852\n",
      "Data columns (total 7 columns):\n",
      " #   Column     Non-Null Count  Dtype  \n",
      "---  ------     --------------  -----  \n",
      " 0   Date       14853 non-null  object \n",
      " 1   Open       14853 non-null  float64\n",
      " 2   High       14853 non-null  float64\n",
      " 3   Low        14853 non-null  float64\n",
      " 4   Close      14853 non-null  float64\n",
      " 5   Adj Close  14853 non-null  float64\n",
      " 6   Volume     14853 non-null  int64  \n",
      "dtypes: float64(5), int64(1), object(1)\n",
      "memory usage: 812.4+ KB\n"
     ]
    }
   ],
   "source": [
    "data.info()"
   ]
  },
  {
   "cell_type": "code",
   "execution_count": 6,
   "metadata": {},
   "outputs": [
    {
     "data": {
      "text/html": [
       "<div>\n",
       "<style scoped>\n",
       "    .dataframe tbody tr th:only-of-type {\n",
       "        vertical-align: middle;\n",
       "    }\n",
       "\n",
       "    .dataframe tbody tr th {\n",
       "        vertical-align: top;\n",
       "    }\n",
       "\n",
       "    .dataframe thead th {\n",
       "        text-align: right;\n",
       "    }\n",
       "</style>\n",
       "<table border=\"1\" class=\"dataframe\">\n",
       "  <thead>\n",
       "    <tr style=\"text-align: right;\">\n",
       "      <th></th>\n",
       "      <th>Open</th>\n",
       "      <th>High</th>\n",
       "      <th>Low</th>\n",
       "      <th>Close</th>\n",
       "      <th>Adj Close</th>\n",
       "      <th>Volume</th>\n",
       "    </tr>\n",
       "  </thead>\n",
       "  <tbody>\n",
       "    <tr>\n",
       "      <th>count</th>\n",
       "      <td>14853.000000</td>\n",
       "      <td>14853.000000</td>\n",
       "      <td>14853.000000</td>\n",
       "      <td>14853.000000</td>\n",
       "      <td>14853.000000</td>\n",
       "      <td>1.485300e+04</td>\n",
       "    </tr>\n",
       "    <tr>\n",
       "      <th>mean</th>\n",
       "      <td>12.152237</td>\n",
       "      <td>12.280211</td>\n",
       "      <td>12.016574</td>\n",
       "      <td>12.150452</td>\n",
       "      <td>7.823668</td>\n",
       "      <td>2.436369e+07</td>\n",
       "    </tr>\n",
       "    <tr>\n",
       "      <th>std</th>\n",
       "      <td>13.286002</td>\n",
       "      <td>13.431398</td>\n",
       "      <td>13.133813</td>\n",
       "      <td>13.286684</td>\n",
       "      <td>8.935142</td>\n",
       "      <td>3.390296e+07</td>\n",
       "    </tr>\n",
       "    <tr>\n",
       "      <th>min</th>\n",
       "      <td>0.555889</td>\n",
       "      <td>0.564653</td>\n",
       "      <td>0.543369</td>\n",
       "      <td>0.555889</td>\n",
       "      <td>0.094056</td>\n",
       "      <td>0.000000e+00</td>\n",
       "    </tr>\n",
       "    <tr>\n",
       "      <th>25%</th>\n",
       "      <td>1.104267</td>\n",
       "      <td>1.114283</td>\n",
       "      <td>1.096755</td>\n",
       "      <td>1.104267</td>\n",
       "      <td>0.274211</td>\n",
       "      <td>4.992000e+06</td>\n",
       "    </tr>\n",
       "    <tr>\n",
       "      <th>50%</th>\n",
       "      <td>5.719151</td>\n",
       "      <td>5.779247</td>\n",
       "      <td>5.669071</td>\n",
       "      <td>5.719151</td>\n",
       "      <td>2.548532</td>\n",
       "      <td>1.432200e+07</td>\n",
       "    </tr>\n",
       "    <tr>\n",
       "      <th>75%</th>\n",
       "      <td>23.076923</td>\n",
       "      <td>23.326923</td>\n",
       "      <td>22.798077</td>\n",
       "      <td>23.076923</td>\n",
       "      <td>15.468337</td>\n",
       "      <td>2.837070e+07</td>\n",
       "    </tr>\n",
       "    <tr>\n",
       "      <th>max</th>\n",
       "      <td>57.271633</td>\n",
       "      <td>58.173077</td>\n",
       "      <td>57.151443</td>\n",
       "      <td>57.692307</td>\n",
       "      <td>31.604841</td>\n",
       "      <td>7.830205e+08</td>\n",
       "    </tr>\n",
       "  </tbody>\n",
       "</table>\n",
       "</div>"
      ],
      "text/plain": [
       "               Open          High           Low         Close     Adj Close  \\\n",
       "count  14853.000000  14853.000000  14853.000000  14853.000000  14853.000000   \n",
       "mean      12.152237     12.280211     12.016574     12.150452      7.823668   \n",
       "std       13.286002     13.431398     13.133813     13.286684      8.935142   \n",
       "min        0.555889      0.564653      0.543369      0.555889      0.094056   \n",
       "25%        1.104267      1.114283      1.096755      1.104267      0.274211   \n",
       "50%        5.719151      5.779247      5.669071      5.719151      2.548532   \n",
       "75%       23.076923     23.326923     22.798077     23.076923     15.468337   \n",
       "max       57.271633     58.173077     57.151443     57.692307     31.604841   \n",
       "\n",
       "             Volume  \n",
       "count  1.485300e+04  \n",
       "mean   2.436369e+07  \n",
       "std    3.390296e+07  \n",
       "min    0.000000e+00  \n",
       "25%    4.992000e+06  \n",
       "50%    1.432200e+07  \n",
       "75%    2.837070e+07  \n",
       "max    7.830205e+08  "
      ]
     },
     "execution_count": 6,
     "metadata": {},
     "output_type": "execute_result"
    }
   ],
   "source": [
    "data.describe()"
   ]
  },
  {
   "cell_type": "code",
   "execution_count": 7,
   "metadata": {},
   "outputs": [],
   "source": [
    "df=data[['Date','Close']]"
   ]
  },
  {
   "cell_type": "code",
   "execution_count": 8,
   "metadata": {},
   "outputs": [
    {
     "data": {
      "text/html": [
       "<div>\n",
       "<style scoped>\n",
       "    .dataframe tbody tr th:only-of-type {\n",
       "        vertical-align: middle;\n",
       "    }\n",
       "\n",
       "    .dataframe tbody tr th {\n",
       "        vertical-align: top;\n",
       "    }\n",
       "\n",
       "    .dataframe thead th {\n",
       "        text-align: right;\n",
       "    }\n",
       "</style>\n",
       "<table border=\"1\" class=\"dataframe\">\n",
       "  <thead>\n",
       "    <tr style=\"text-align: right;\">\n",
       "      <th></th>\n",
       "      <th>Date</th>\n",
       "      <th>Close</th>\n",
       "    </tr>\n",
       "  </thead>\n",
       "  <tbody>\n",
       "    <tr>\n",
       "      <th>0</th>\n",
       "      <td>1962-01-02</td>\n",
       "      <td>0.748698</td>\n",
       "    </tr>\n",
       "    <tr>\n",
       "      <th>1</th>\n",
       "      <td>1962-01-03</td>\n",
       "      <td>0.741186</td>\n",
       "    </tr>\n",
       "    <tr>\n",
       "      <th>2</th>\n",
       "      <td>1962-01-04</td>\n",
       "      <td>0.732422</td>\n",
       "    </tr>\n",
       "    <tr>\n",
       "      <th>3</th>\n",
       "      <td>1962-01-05</td>\n",
       "      <td>0.713642</td>\n",
       "    </tr>\n",
       "    <tr>\n",
       "      <th>4</th>\n",
       "      <td>1962-01-08</td>\n",
       "      <td>0.712390</td>\n",
       "    </tr>\n",
       "    <tr>\n",
       "      <th>...</th>\n",
       "      <td>...</td>\n",
       "      <td>...</td>\n",
       "    </tr>\n",
       "    <tr>\n",
       "      <th>14848</th>\n",
       "      <td>2020-12-24</td>\n",
       "      <td>10.650000</td>\n",
       "    </tr>\n",
       "    <tr>\n",
       "      <th>14849</th>\n",
       "      <td>2020-12-28</td>\n",
       "      <td>10.640000</td>\n",
       "    </tr>\n",
       "    <tr>\n",
       "      <th>14850</th>\n",
       "      <td>2020-12-29</td>\n",
       "      <td>10.560000</td>\n",
       "    </tr>\n",
       "    <tr>\n",
       "      <th>14851</th>\n",
       "      <td>2020-12-30</td>\n",
       "      <td>10.710000</td>\n",
       "    </tr>\n",
       "    <tr>\n",
       "      <th>14852</th>\n",
       "      <td>2020-12-31</td>\n",
       "      <td>10.800000</td>\n",
       "    </tr>\n",
       "  </tbody>\n",
       "</table>\n",
       "<p>14853 rows × 2 columns</p>\n",
       "</div>"
      ],
      "text/plain": [
       "             Date      Close\n",
       "0      1962-01-02   0.748698\n",
       "1      1962-01-03   0.741186\n",
       "2      1962-01-04   0.732422\n",
       "3      1962-01-05   0.713642\n",
       "4      1962-01-08   0.712390\n",
       "...           ...        ...\n",
       "14848  2020-12-24  10.650000\n",
       "14849  2020-12-28  10.640000\n",
       "14850  2020-12-29  10.560000\n",
       "14851  2020-12-30  10.710000\n",
       "14852  2020-12-31  10.800000\n",
       "\n",
       "[14853 rows x 2 columns]"
      ]
     },
     "execution_count": 8,
     "metadata": {},
     "output_type": "execute_result"
    }
   ],
   "source": [
    "df"
   ]
  },
  {
   "cell_type": "code",
   "execution_count": 9,
   "metadata": {},
   "outputs": [
    {
     "name": "stderr",
     "output_type": "stream",
     "text": [
      "d:\\python\\lib\\site-packages\\ipykernel_launcher.py:1: SettingWithCopyWarning: \n",
      "A value is trying to be set on a copy of a slice from a DataFrame.\n",
      "Try using .loc[row_indexer,col_indexer] = value instead\n",
      "\n",
      "See the caveats in the documentation: https://pandas.pydata.org/pandas-docs/stable/user_guide/indexing.html#returning-a-view-versus-a-copy\n",
      "  \"\"\"Entry point for launching an IPython kernel.\n"
     ]
    }
   ],
   "source": [
    "df['Date']=pd.to_datetime(df['Date'])"
   ]
  },
  {
   "cell_type": "code",
   "execution_count": 10,
   "metadata": {},
   "outputs": [
    {
     "name": "stdout",
     "output_type": "stream",
     "text": [
      "<class 'pandas.core.frame.DataFrame'>\n",
      "RangeIndex: 14853 entries, 0 to 14852\n",
      "Data columns (total 2 columns):\n",
      " #   Column  Non-Null Count  Dtype         \n",
      "---  ------  --------------  -----         \n",
      " 0   Date    14853 non-null  datetime64[ns]\n",
      " 1   Close   14853 non-null  float64       \n",
      "dtypes: datetime64[ns](1), float64(1)\n",
      "memory usage: 232.2 KB\n"
     ]
    }
   ],
   "source": [
    "df.info()"
   ]
  },
  {
   "cell_type": "code",
   "execution_count": 11,
   "metadata": {},
   "outputs": [
    {
     "data": {
      "text/plain": [
       "<matplotlib.axes._subplots.AxesSubplot at 0x2648e3534c8>"
      ]
     },
     "execution_count": 11,
     "metadata": {},
     "output_type": "execute_result"
    },
    {
     "data": {
      "image/png": "[encoded data removed]",
      "text/plain": [
       "<Figure size 432x288 with 1 Axes>"
      ]
     },
     "metadata": {},
     "output_type": "display_data"
    }
   ],
   "source": [
    "sns.lineplot(x=df['Date'],y=df['Close'])"
   ]
  },
  {
   "cell_type": "code",
   "execution_count": 12,
   "metadata": {},
   "outputs": [
    {
     "name": "stdout",
     "output_type": "stream",
     "text": [
      "Start Date  1962-01-02 00:00:00\n"
     ]
    }
   ],
   "source": [
    "print(f'Start Date ' , df['Date'].min())"
   ]
  },
  {
   "cell_type": "code",
   "execution_count": 13,
   "metadata": {},
   "outputs": [
    {
     "name": "stdout",
     "output_type": "stream",
     "text": [
      "End Date  2020-12-31 00:00:00\n"
     ]
    }
   ],
   "source": [
    "print(f'End Date ' , df['Date'].max())"
   ]
  },
  {
   "cell_type": "markdown",
   "metadata": {},
   "source": [
    "# Time based train test split"
   ]
  },
  {
   "cell_type": "code",
   "execution_count": 14,
   "metadata": {},
   "outputs": [],
   "source": [
    "train,test=df.loc[df['Date'] <= '2004-12-31'] , df.loc[df['Date'] > '2004-12-31']"
   ]
  },
  {
   "cell_type": "code",
   "execution_count": 15,
   "metadata": {},
   "outputs": [],
   "source": [
    "sc=StandardScaler()"
   ]
  },
  {
   "cell_type": "code",
   "execution_count": 16,
   "metadata": {},
   "outputs": [
    {
     "name": "stderr",
     "output_type": "stream",
     "text": [
      "d:\\python\\lib\\site-packages\\ipykernel_launcher.py:1: SettingWithCopyWarning: \n",
      "A value is trying to be set on a copy of a slice from a DataFrame.\n",
      "Try using .loc[row_indexer,col_indexer] = value instead\n",
      "\n",
      "See the caveats in the documentation: https://pandas.pydata.org/pandas-docs/stable/user_guide/indexing.html#returning-a-view-versus-a-copy\n",
      "  \"\"\"Entry point for launching an IPython kernel.\n"
     ]
    }
   ],
   "source": [
    "train['Close']=sc.fit_transform(train['Close'].values.reshape(-1,1))"
   ]
  },
  {
   "cell_type": "code",
   "execution_count": 17,
   "metadata": {},
   "outputs": [
    {
     "name": "stderr",
     "output_type": "stream",
     "text": [
      "d:\\python\\lib\\site-packages\\ipykernel_launcher.py:1: SettingWithCopyWarning: \n",
      "A value is trying to be set on a copy of a slice from a DataFrame.\n",
      "Try using .loc[row_indexer,col_indexer] = value instead\n",
      "\n",
      "See the caveats in the documentation: https://pandas.pydata.org/pandas-docs/stable/user_guide/indexing.html#returning-a-view-versus-a-copy\n",
      "  \"\"\"Entry point for launching an IPython kernel.\n"
     ]
    }
   ],
   "source": [
    "\n",
    "test['Close']=sc.transform(test['Close'].values.reshape(-1,1))\n"
   ]
  },
  {
   "cell_type": "code",
   "execution_count": 18,
   "metadata": {},
   "outputs": [
    {
     "data": {
      "text/html": [
       "<div>\n",
       "<style scoped>\n",
       "    .dataframe tbody tr th:only-of-type {\n",
       "        vertical-align: middle;\n",
       "    }\n",
       "\n",
       "    .dataframe tbody tr th {\n",
       "        vertical-align: top;\n",
       "    }\n",
       "\n",
       "    .dataframe thead th {\n",
       "        text-align: right;\n",
       "    }\n",
       "</style>\n",
       "<table border=\"1\" class=\"dataframe\">\n",
       "  <thead>\n",
       "    <tr style=\"text-align: right;\">\n",
       "      <th></th>\n",
       "      <th>Date</th>\n",
       "      <th>Close</th>\n",
       "    </tr>\n",
       "  </thead>\n",
       "  <tbody>\n",
       "    <tr>\n",
       "      <th>0</th>\n",
       "      <td>1962-01-02</td>\n",
       "      <td>-0.603543</td>\n",
       "    </tr>\n",
       "    <tr>\n",
       "      <th>1</th>\n",
       "      <td>1962-01-03</td>\n",
       "      <td>-0.604133</td>\n",
       "    </tr>\n",
       "    <tr>\n",
       "      <th>2</th>\n",
       "      <td>1962-01-04</td>\n",
       "      <td>-0.604821</td>\n",
       "    </tr>\n",
       "    <tr>\n",
       "      <th>3</th>\n",
       "      <td>1962-01-05</td>\n",
       "      <td>-0.606295</td>\n",
       "    </tr>\n",
       "    <tr>\n",
       "      <th>4</th>\n",
       "      <td>1962-01-08</td>\n",
       "      <td>-0.606394</td>\n",
       "    </tr>\n",
       "  </tbody>\n",
       "</table>\n",
       "</div>"
      ],
      "text/plain": [
       "        Date     Close\n",
       "0 1962-01-02 -0.603543\n",
       "1 1962-01-03 -0.604133\n",
       "2 1962-01-04 -0.604821\n",
       "3 1962-01-05 -0.606295\n",
       "4 1962-01-08 -0.606394"
      ]
     },
     "execution_count": 18,
     "metadata": {},
     "output_type": "execute_result"
    }
   ],
   "source": [
    "train.head()"
   ]
  },
  {
   "cell_type": "code",
   "execution_count": 19,
   "metadata": {},
   "outputs": [
    {
     "data": {
      "text/html": [
       "<div>\n",
       "<style scoped>\n",
       "    .dataframe tbody tr th:only-of-type {\n",
       "        vertical-align: middle;\n",
       "    }\n",
       "\n",
       "    .dataframe tbody tr th {\n",
       "        vertical-align: top;\n",
       "    }\n",
       "\n",
       "    .dataframe thead th {\n",
       "        text-align: right;\n",
       "    }\n",
       "</style>\n",
       "<table border=\"1\" class=\"dataframe\">\n",
       "  <thead>\n",
       "    <tr style=\"text-align: right;\">\n",
       "      <th></th>\n",
       "      <th>Date</th>\n",
       "      <th>Close</th>\n",
       "    </tr>\n",
       "  </thead>\n",
       "  <tbody>\n",
       "    <tr>\n",
       "      <th>10825</th>\n",
       "      <td>2005-01-03</td>\n",
       "      <td>2.099706</td>\n",
       "    </tr>\n",
       "    <tr>\n",
       "      <th>10826</th>\n",
       "      <td>2005-01-04</td>\n",
       "      <td>2.066492</td>\n",
       "    </tr>\n",
       "    <tr>\n",
       "      <th>10827</th>\n",
       "      <td>2005-01-05</td>\n",
       "      <td>2.049885</td>\n",
       "    </tr>\n",
       "    <tr>\n",
       "      <th>10828</th>\n",
       "      <td>2005-01-06</td>\n",
       "      <td>2.071776</td>\n",
       "    </tr>\n",
       "    <tr>\n",
       "      <th>10829</th>\n",
       "      <td>2005-01-07</td>\n",
       "      <td>2.055169</td>\n",
       "    </tr>\n",
       "  </tbody>\n",
       "</table>\n",
       "</div>"
      ],
      "text/plain": [
       "            Date     Close\n",
       "10825 2005-01-03  2.099706\n",
       "10826 2005-01-04  2.066492\n",
       "10827 2005-01-05  2.049885\n",
       "10828 2005-01-06  2.071776\n",
       "10829 2005-01-07  2.055169"
      ]
     },
     "execution_count": 19,
     "metadata": {},
     "output_type": "execute_result"
    }
   ],
   "source": [
    "test.head()"
   ]
  },
  {
   "cell_type": "code",
   "execution_count": 20,
   "metadata": {},
   "outputs": [],
   "source": [
    "sequence_length=30"
   ]
  },
  {
   "cell_type": "code",
   "execution_count": 21,
   "metadata": {},
   "outputs": [],
   "source": [
    "def convert_to_sequences(x,y,sequence_length=1):\n",
    "    x_val=[]\n",
    "    y_val=[]\n",
    "    \n",
    "    for i in range(len(x) - sequence_length):\n",
    "        \n",
    "        x_val.append(x.iloc[i : (i + sequence_length)].values)\n",
    "        y_val.append(y.iloc[i + sequence_length])\n",
    "        \n",
    "    return np.array(x_val),np.array(y_val)"
   ]
  },
  {
   "cell_type": "markdown",
   "metadata": {},
   "source": [
    "the above function takes first sequence_length rows as x and the next sequenct_length+1 th number as y."
   ]
  },
  {
   "cell_type": "code",
   "execution_count": 22,
   "metadata": {},
   "outputs": [],
   "source": [
    "train_x,train_y=convert_to_sequences(train[['Close']],train['Close'],sequence_length)"
   ]
  },
  {
   "cell_type": "code",
   "execution_count": 23,
   "metadata": {},
   "outputs": [],
   "source": [
    "test_x,test_y=convert_to_sequences(test[['Close']],test['Close'],sequence_length)"
   ]
  },
  {
   "cell_type": "code",
   "execution_count": 24,
   "metadata": {},
   "outputs": [
    {
     "name": "stdout",
     "output_type": "stream",
     "text": [
      "(10795, 30, 1) (10795,)\n"
     ]
    }
   ],
   "source": [
    "print(train_x.shape,train_y.shape)"
   ]
  },
  {
   "cell_type": "code",
   "execution_count": 25,
   "metadata": {},
   "outputs": [
    {
     "name": "stdout",
     "output_type": "stream",
     "text": [
      "(3998, 30, 1) (3998,)\n"
     ]
    }
   ],
   "source": [
    "print(test_x.shape,test_y.shape)"
   ]
  },
  {
   "cell_type": "code",
   "execution_count": 26,
   "metadata": {},
   "outputs": [
    {
     "data": {
      "text/plain": [
       "array([[-0.6035432 ],\n",
       "       [-0.60413293],\n",
       "       [-0.60482095],\n",
       "       [-0.60629528],\n",
       "       [-0.60639357],\n",
       "       [-0.6060987 ],\n",
       "       [-0.60580384],\n",
       "       [-0.60570555],\n",
       "       [-0.60649186],\n",
       "       [-0.60590213],\n",
       "       [-0.60541068],\n",
       "       [-0.60668844],\n",
       "       [-0.6060987 ],\n",
       "       [-0.60560726],\n",
       "       [-0.60541068],\n",
       "       [-0.60649186],\n",
       "       [-0.60541068],\n",
       "       [-0.60600042],\n",
       "       [-0.60619699],\n",
       "       [-0.6060987 ],\n",
       "       [-0.60511582],\n",
       "       [-0.60334662],\n",
       "       [-0.60373978],\n",
       "       [-0.60344491],\n",
       "       [-0.60452609],\n",
       "       [-0.60393636],\n",
       "       [-0.60334662],\n",
       "       [-0.60295347],\n",
       "       [-0.60324834],\n",
       "       [-0.60324834]])"
      ]
     },
     "execution_count": 26,
     "metadata": {},
     "output_type": "execute_result"
    }
   ],
   "source": [
    "train_x[0]"
   ]
  },
  {
   "cell_type": "code",
   "execution_count": 27,
   "metadata": {},
   "outputs": [
    {
     "data": {
      "text/plain": [
       "-0.6025603162737402"
      ]
     },
     "execution_count": 27,
     "metadata": {},
     "output_type": "execute_result"
    }
   ],
   "source": [
    "train_y[0]"
   ]
  },
  {
   "cell_type": "code",
   "execution_count": 28,
   "metadata": {},
   "outputs": [],
   "source": [
    "def define_lstm_model(train_x):\n",
    "    model = Sequential()\n",
    "    model.add(LSTM(128, input_shape=(train_x.shape[1], train_x.shape[2])))\n",
    "    model.add(Dropout(rate=0.2))\n",
    "    #https://keras.io/api/layers/reshaping_layers/repeat_vector/\n",
    "    model.add(RepeatVector(train_x.shape[1]))\n",
    "\n",
    "    model.add(LSTM(128, return_sequences=True))\n",
    "    model.add(Dropout(rate=0.2))\n",
    "    model.add(TimeDistributed(Dense(train_x.shape[2])))\n",
    "    model.compile(optimizer='adam', loss='mae')\n",
    "    model.summary()\n",
    "    return model"
   ]
  },
  {
   "cell_type": "code",
   "execution_count": 29,
   "metadata": {},
   "outputs": [
    {
     "name": "stdout",
     "output_type": "stream",
     "text": [
      "Model: \"sequential\"\n",
      "_________________________________________________________________\n",
      "Layer (type)                 Output Shape              Param #   \n",
      "=================================================================\n",
      "lstm (LSTM)                  (None, 128)               66560     \n",
      "_________________________________________________________________\n",
      "dropout (Dropout)            (None, 128)               0         \n",
      "_________________________________________________________________\n",
      "repeat_vector (RepeatVector) (None, 30, 128)           0         \n",
      "_________________________________________________________________\n",
      "lstm_1 (LSTM)                (None, 30, 128)           131584    \n",
      "_________________________________________________________________\n",
      "dropout_1 (Dropout)          (None, 30, 128)           0         \n",
      "_________________________________________________________________\n",
      "time_distributed (TimeDistri (None, 30, 1)             129       \n",
      "=================================================================\n",
      "Total params: 198,273\n",
      "Trainable params: 198,273\n",
      "Non-trainable params: 0\n",
      "_________________________________________________________________\n"
     ]
    }
   ],
   "source": [
    "model=define_lstm_model(train_x)"
   ]
  },
  {
   "cell_type": "code",
   "execution_count": 30,
   "metadata": {},
   "outputs": [
    {
     "name": "stdout",
     "output_type": "stream",
     "text": [
      "Epoch 1/50\n",
      "304/304 [==============================] - 3s 9ms/step - loss: 0.0605 - val_loss: 0.1524\n",
      "Epoch 2/50\n",
      "304/304 [==============================] - 2s 7ms/step - loss: 0.0364 - val_loss: 0.0808\n",
      "Epoch 3/50\n",
      "304/304 [==============================] - 2s 7ms/step - loss: 0.0325 - val_loss: 0.0590\n",
      "Epoch 4/50\n",
      "304/304 [==============================] - 2s 7ms/step - loss: 0.0306 - val_loss: 0.0497\n",
      "Epoch 5/50\n",
      "304/304 [==============================] - 2s 7ms/step - loss: 0.0290 - val_loss: 0.0784\n",
      "Epoch 6/50\n",
      "304/304 [==============================] - 2s 8ms/step - loss: 0.0275 - val_loss: 0.1000\n",
      "Epoch 7/50\n",
      "304/304 [==============================] - 2s 8ms/step - loss: 0.0276 - val_loss: 0.0498\n",
      "Epoch 8/50\n",
      "304/304 [==============================] - 2s 7ms/step - loss: 0.0266 - val_loss: 0.0728\n",
      "Epoch 9/50\n",
      "304/304 [==============================] - 2s 8ms/step - loss: 0.0255 - val_loss: 0.1012\n",
      "Epoch 10/50\n",
      "304/304 [==============================] - 2s 8ms/step - loss: 0.0267 - val_loss: 0.0802\n",
      "Epoch 11/50\n",
      "304/304 [==============================] - 2s 8ms/step - loss: 0.0248 - val_loss: 0.0492\n",
      "Epoch 12/50\n",
      "304/304 [==============================] - 2s 8ms/step - loss: 0.0254 - val_loss: 0.0794\n",
      "Epoch 13/50\n",
      "304/304 [==============================] - 2s 7ms/step - loss: 0.0243 - val_loss: 0.0488\n",
      "Epoch 14/50\n",
      "304/304 [==============================] - 2s 7ms/step - loss: 0.0239 - val_loss: 0.0602\n",
      "Epoch 15/50\n",
      "304/304 [==============================] - 2s 7ms/step - loss: 0.0230 - val_loss: 0.0488\n",
      "Epoch 16/50\n",
      "304/304 [==============================] - 2s 7ms/step - loss: 0.0228 - val_loss: 0.0660\n",
      "Epoch 17/50\n",
      "304/304 [==============================] - 2s 7ms/step - loss: 0.0232 - val_loss: 0.0936\n",
      "Epoch 18/50\n",
      "304/304 [==============================] - 2s 8ms/step - loss: 0.0229 - val_loss: 0.0504\n",
      "Epoch 19/50\n",
      "304/304 [==============================] - 2s 7ms/step - loss: 0.0221 - val_loss: 0.0481\n",
      "Epoch 20/50\n",
      "304/304 [==============================] - 2s 7ms/step - loss: 0.0223 - val_loss: 0.0977\n",
      "Epoch 21/50\n",
      "304/304 [==============================] - 2s 7ms/step - loss: 0.0224 - val_loss: 0.0761\n",
      "Epoch 22/50\n",
      "304/304 [==============================] - 2s 7ms/step - loss: 0.0222 - val_loss: 0.0555\n",
      "Epoch 23/50\n",
      "304/304 [==============================] - 2s 7ms/step - loss: 0.0215 - val_loss: 0.0466\n",
      "Epoch 24/50\n",
      "304/304 [==============================] - 2s 7ms/step - loss: 0.0213 - val_loss: 0.0439\n",
      "Epoch 25/50\n",
      "304/304 [==============================] - 2s 8ms/step - loss: 0.0217 - val_loss: 0.0836\n",
      "Epoch 26/50\n",
      "304/304 [==============================] - 2s 7ms/step - loss: 0.0211 - val_loss: 0.0473\n",
      "Epoch 27/50\n",
      "304/304 [==============================] - 2s 7ms/step - loss: 0.0208 - val_loss: 0.0462\n",
      "Epoch 28/50\n",
      "304/304 [==============================] - 2s 7ms/step - loss: 0.0213 - val_loss: 0.0521\n",
      "Epoch 29/50\n",
      "304/304 [==============================] - 2s 7ms/step - loss: 0.0222 - val_loss: 0.0470\n",
      "Epoch 30/50\n",
      "304/304 [==============================] - 2s 7ms/step - loss: 0.0212 - val_loss: 0.0497\n",
      "Epoch 31/50\n",
      "304/304 [==============================] - 2s 7ms/step - loss: 0.0204 - val_loss: 0.0519\n",
      "Epoch 32/50\n",
      "304/304 [==============================] - 2s 7ms/step - loss: 0.0208 - val_loss: 0.0536\n",
      "Epoch 33/50\n",
      "304/304 [==============================] - 2s 7ms/step - loss: 0.0210 - val_loss: 0.0602\n",
      "Epoch 34/50\n",
      "304/304 [==============================] - 2s 7ms/step - loss: 0.0195 - val_loss: 0.1155\n",
      "Epoch 35/50\n",
      "304/304 [==============================] - 2s 7ms/step - loss: 0.0210 - val_loss: 0.0584\n",
      "Epoch 36/50\n",
      "304/304 [==============================] - 2s 7ms/step - loss: 0.0194 - val_loss: 0.0979\n",
      "Epoch 37/50\n",
      "304/304 [==============================] - 2s 8ms/step - loss: 0.0207 - val_loss: 0.0588\n",
      "Epoch 38/50\n",
      "304/304 [==============================] - 2s 7ms/step - loss: 0.0197 - val_loss: 0.0795\n",
      "Epoch 39/50\n",
      "304/304 [==============================] - 2s 7ms/step - loss: 0.0199 - val_loss: 0.0603\n",
      "Epoch 40/50\n",
      "304/304 [==============================] - 2s 7ms/step - loss: 0.0194 - val_loss: 0.0626\n",
      "Epoch 41/50\n",
      "304/304 [==============================] - 2s 8ms/step - loss: 0.0199 - val_loss: 0.0555\n",
      "Epoch 42/50\n",
      "304/304 [==============================] - 2s 8ms/step - loss: 0.0198 - val_loss: 0.0583\n",
      "Epoch 43/50\n",
      "304/304 [==============================] - 2s 7ms/step - loss: 0.0200 - val_loss: 0.0769\n",
      "Epoch 44/50\n",
      "304/304 [==============================] - 2s 8ms/step - loss: 0.0195 - val_loss: 0.0467\n",
      "Epoch 45/50\n",
      "304/304 [==============================] - 2s 7ms/step - loss: 0.0200 - val_loss: 0.0518\n",
      "Epoch 46/50\n",
      "304/304 [==============================] - 2s 7ms/step - loss: 0.0195 - val_loss: 0.0472\n",
      "Epoch 47/50\n",
      "304/304 [==============================] - 2s 7ms/step - loss: 0.0198 - val_loss: 0.0790\n",
      "Epoch 48/50\n",
      "304/304 [==============================] - 2s 7ms/step - loss: 0.0192 - val_loss: 0.0525\n",
      "Epoch 49/50\n",
      "304/304 [==============================] - 2s 7ms/step - loss: 0.0194 - val_loss: 0.0484\n",
      "Epoch 50/50\n",
      "304/304 [==============================] - 2s 7ms/step - loss: 0.0193 - val_loss: 0.0603\n"
     ]
    }
   ],
   "source": [
    "history = model.fit(train_x, train_y, epochs=50, batch_size=32, validation_split=0.1, verbose=1)"
   ]
  },
  {
   "cell_type": "code",
   "execution_count": 31,
   "metadata": {},
   "outputs": [
    {
     "data": {
      "text/plain": [
       "<matplotlib.legend.Legend at 0x2660a813c08>"
      ]
     },
     "execution_count": 31,
     "metadata": {},
     "output_type": "execute_result"
    },
    {
     "data": {
      "image/png": "[encoded data removed]",
      "text/plain": [
       "<Figure size 432x288 with 1 Axes>"
      ]
     },
     "metadata": {},
     "output_type": "display_data"
    }
   ],
   "source": [
    "plt.plot(history.history['loss'], label='Training loss')\n",
    "plt.plot(history.history['val_loss'], label='Validation loss')\n",
    "plt.legend()"
   ]
  },
  {
   "cell_type": "code",
   "execution_count": 32,
   "metadata": {},
   "outputs": [
    {
     "data": {
      "image/png": "[encoded data removed]",
      "text/plain": [
       "<Figure size 432x288 with 1 Axes>"
      ]
     },
     "metadata": {},
     "output_type": "display_data"
    }
   ],
   "source": [
    "train_preds = model.predict(train_x)\n",
    "mae_train = np.mean(np.abs(train_preds - train_x), axis=1)\n",
    "plt.hist(mae_train, bins=30)\n",
    "max_mae_train = 0.36 "
   ]
  },
  {
   "cell_type": "code",
   "execution_count": 33,
   "metadata": {},
   "outputs": [
    {
     "data": {
      "text/plain": [
       "(array([217., 815., 758., 569., 389., 321., 231., 199., 118., 101.,  60.,\n",
       "         38.,  35.,  39.,  29.,  17.,  12.,  15.,   6.,   6.,   8.,   6.,\n",
       "          0.,   2.,   4.,   0.,   0.,   1.,   1.,   1.]),\n",
       " array([0.00536975, 0.02132957, 0.03728938, 0.0532492 , 0.06920901,\n",
       "        0.08516882, 0.10112864, 0.11708845, 0.13304827, 0.14900808,\n",
       "        0.1649679 , 0.18092771, 0.19688753, 0.21284734, 0.22880715,\n",
       "        0.24476697, 0.26072678, 0.2766866 , 0.29264641, 0.30860623,\n",
       "        0.32456604, 0.34052586, 0.35648567, 0.37244549, 0.3884053 ,\n",
       "        0.40436511, 0.42032493, 0.43628474, 0.45224456, 0.46820437,\n",
       "        0.48416419]),\n",
       " <a list of 30 Patch objects>)"
      ]
     },
     "execution_count": 33,
     "metadata": {},
     "output_type": "execute_result"
    },
    {
     "data": {
      "image/png": "[encoded data removed]",
      "text/plain": [
       "<Figure size 432x288 with 1 Axes>"
      ]
     },
     "metadata": {},
     "output_type": "display_data"
    }
   ],
   "source": [
    "\n",
    "testPredict = model.predict(test_x)\n",
    "testMAE = np.mean(np.abs(testPredict - test_x), axis=1)\n",
    "plt.hist(testMAE, bins=30)"
   ]
  },
  {
   "cell_type": "code",
   "execution_count": 34,
   "metadata": {},
   "outputs": [
    {
     "data": {
      "text/plain": [
       "<matplotlib.axes._subplots.AxesSubplot at 0x26627c7b7c8>"
      ]
     },
     "execution_count": 34,
     "metadata": {},
     "output_type": "execute_result"
    },
    {
     "data": {
      "image/png": "[encoded data removed]",
      "text/plain": [
       "<Figure size 432x288 with 1 Axes>"
      ]
     },
     "metadata": {},
     "output_type": "display_data"
    }
   ],
   "source": [
    "\n",
    "#Capture all details in a DataFrame for easy plotting\n",
    "anomaly_df = pd.DataFrame(test[sequence_length:])\n",
    "anomaly_df['testMAE'] = testMAE\n",
    "anomaly_df['max_mae_train'] = max_mae_train\n",
    "anomaly_df['anomaly'] = anomaly_df['testMAE'] > anomaly_df['max_mae_train']\n",
    "anomaly_df['Close'] = test[sequence_length:]['Close']\n",
    "\n",
    "#Plot testMAE vs max_trainMAE\n",
    "sns.lineplot(x=anomaly_df['Date'], y=anomaly_df['testMAE'])\n",
    "sns.lineplot(x=anomaly_df['Date'], y=anomaly_df['max_mae_train'])\n"
   ]
  },
  {
   "cell_type": "code",
   "execution_count": 35,
   "metadata": {},
   "outputs": [
    {
     "data": {
      "text/plain": [
       "<matplotlib.axes._subplots.AxesSubplot at 0x2663d87f108>"
      ]
     },
     "execution_count": 35,
     "metadata": {},
     "output_type": "execute_result"
    },
    {
     "data": {
      "image/png": "[encoded data removed]",
      "text/plain": [
       "<Figure size 432x288 with 1 Axes>"
      ]
     },
     "metadata": {},
     "output_type": "display_data"
    }
   ],
   "source": [
    "\n",
    "anomalies = anomaly_df.loc[anomaly_df['anomaly'] == True]\n",
    "\n",
    "#Plot anomalies\n",
    "sns.lineplot(x=anomaly_df['Date'], y=sc.inverse_transform(anomaly_df['Close']))\n",
    "sns.scatterplot(x=anomalies['Date'], y=sc.inverse_transform(anomalies['Close']), color='r')"
   ]
  },
  {
   "cell_type": "code",
   "execution_count": null,
   "metadata": {},
   "outputs": [],
   "source": []
  },
  {
   "cell_type": "code",
   "execution_count": null,
   "metadata": {},
   "outputs": [],
   "source": []
  }
 ],
 "metadata": {
  "kernelspec": {
   "display_name": "Python 3",
   "language": "python",
   "name": "python3"
  },
  "language_info": {
   "codemirror_mode": {
    "name": "ipython",
    "version": 3
   },
   "file_extension": ".py",
   "mimetype": "text/x-python",
   "name": "python",
   "nbconvert_exporter": "python",
   "pygments_lexer": "ipython3",
   "version": "3.7.7"
  }
 },
 "nbformat": 4,
 "nbformat_minor": 4
}
